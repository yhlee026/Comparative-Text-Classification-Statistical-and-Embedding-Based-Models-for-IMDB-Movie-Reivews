{
 "cells": [
  {
   "cell_type": "markdown",
   "id": "f7a8e6b9-d733-4f2d-9c8c-20eefe373922",
   "metadata": {},
   "source": [
    "# CM3060 Natural Language Processing Mid Term"
   ]
  },
  {
   "cell_type": "markdown",
   "id": "297d0e6f-87af-4a5b-8478-55d1e4ba6cd5",
   "metadata": {},
   "source": [
    "## I. Introduction"
   ]
  },
  {
   "cell_type": "markdown",
   "id": "feac7594-6177-45ed-bb67-ea424937cc2c",
   "metadata": {},
   "source": [
    "### 1. Domain-Specific Area"
   ]
  },
  {
   "cell_type": "markdown",
   "id": "df869284-cb71-4a38-807e-5ec8405c4a23",
   "metadata": {},
   "source": [
    "In this project, we tackle sentiment analysis of movie reviews, a cornerstone task in natural language processing(NLP) where the goal is to classify critiques as expressing and classifying negative and positive sentiments. Sentiment analysis will help the companies and organisations to understand overall sentiment of customer opinions, reviews and comments, categorized them into positive and negative classes. Sentiment analysis also known as opinion mining which is the process of using NLP, text analysis, and machine learning to determine the emotional tone or sentiment expressed within a piece of text. According to Pang and Lee’s seminal work(2008)[1], it demonstrated the effectiveness of supervised learning method on the Internet Movie Database(IMDB) corpus. It established a performance benchmark and highlighting the real-world utility by demonstrating the generic supervised classifier could capture sentiment with high accuracy. \n",
    "\n",
    "Movie reviews provide an ideal and valuable datasets for this project because they abound in subjective language and unmistaken opinions, with author explicitly conveying their emotional responses about the praise and criticism of the movies. According to the modern reviews sites automatically label each movie review with star rating or respective labelled, provide us a large and high quality of negative and positive datasets. Moreover, a reviewer’s sentiment is directly reflecting the real audience preferences, models trained on this real and reliable dataset can help the companies to gauge audiences reaction and provide market strategies according to the result of the predictions and analysis. Overall, these factors will make the movie reviews an ideal playground for developing, evaluating, and comparing different sentiment analysis methods. By leveraging this domain, we can directly compare traditional TF-IDF features against modern embedding techniques to assess how advances in representation learning translate into improved sentiment classification. \n"
   ]
  },
  {
   "cell_type": "markdown",
   "id": "fca5b860-4162-42f3-890c-b091c2d6498e",
   "metadata": {},
   "source": [
    "### 2. Objectives"
   ]
  },
  {
   "cell_type": "markdown",
   "id": "44ae4d0a-012e-47f9-9de6-e0a63739f65f",
   "metadata": {},
   "source": [
    "In our comprehensive study on the movie reviews sentiment analysis, our primary goal is to implement and access the strength and limitations of two distinct approaches to text classification. Firstly, we study and establish a statistical baseline by employing a TF-IDF vectorization pipeline coupled with logistic linear regression classifier. Statistical baseline model will treat each document as a token and ignoring word and syntactic structure, convert texts into numeric feature vector which is a linear model is trained to predict labels of positive and negative reviews. According to Ramos,J.(2003)[2], using TF-IDF to determine word relevance in document queries is a type of statistical baseline to reweight the raw word counts into numbers and become a simple linear regression classifier we performed in this project which is easy to train, interpret and tune. This will provide a interpretable, frequency-based features to gauge how well classification methods perform on movie reviews sentiment analysis. \n",
    "\n",
    "Secondly, we explore a modern embedding based model by training a Word2Vec network to learn dense, continuous representations of words. A modern embedding based pipeline will replace a “bags of words” features with dense, learned vector representations of words. Word2Vec is a foundation model to approach the target of the modern embedding baseline pipeline. According to Mikolov et a,.2013[3], Word2Vec will learn dense, real-valued vectors for each word by training a simple neural network so that the words appearing in similar context end up close together in the embedding space. Once the model trained, we can represent an entire document by averaging it words vector and feed that fixed-length vector into a standard classifier to perform movie review sentiment analysis. This modern embedding baseline will be enabling us to determine the semantic vectors that can capture the context that might missed by the TF-IDF classifier. \n",
    "Through this project, we aim to identify which method will deliver superior classification on the IMDB movie reviews datasets and gain deep insight into the factors driving their performance.\n"
   ]
  },
  {
   "cell_type": "markdown",
   "id": "481eefbd-dd38-4259-bc2b-69f018ef34a3",
   "metadata": {},
   "source": [
    "### 3. Dataset Description"
   ]
  },
  {
   "attachments": {
    "dd309b8f-ae98-4679-9dd1-5a8dfb1c2177.png": {
     "image/png": "[encoded data removed]"
    }
   },
   "cell_type": "markdown",
   "id": "35a2c163-4cae-4911-919c-1398c3c7a97f",
   "metadata": {},
   "source": [
    "![IMDB Image.png](attachment:dd309b8f-ae98-4679-9dd1-5a8dfb1c2177.png)"
   ]
  },
  {
   "cell_type": "markdown",
   "id": "91b4482f-8b75-4d82-b0b1-9db189c60e96",
   "metadata": {},
   "source": [
    "The IMDB Sentiment dataset(Maas et al,.2011)[4] is a widely used benchmark corpus for movie reviews sentiment analysis. It built up with 50,000 English language reviews equally divided into 25,000 training and 25,000 test sample. Each set contains an equal number of positive and negative reviews, making the dataset perfectly balanced for binary classification tasks. The reviews stored in plain text files, and range of 200 to 300 word counts. The dataset split into subfolder such as “train/pos”, “train/neg”, “test/pos”,  and “test/neg”, where the sentiment labels are inferred from the directory names. \n",
    "\n",
    "One of the main advantages of the IMDB movie reviews dataset is that it contains high quality labels, as only strong positive and strong negative reviews are included. It eliminate the reviews with neutral content which will affect the effectiveness of feature extraction during model training. The dataset is being obtained from ACL Stanford website via “tar” extraction as it can maintain folder-based sentiment labels of positive and negative , and it is easy to use and integrate in NLP workflows. This structure ensures that each sample is isolated for straightforward loading while the balanced class distribution prevents metric skew and enables fair comparison between statistical baseline(TF-IDF) and modern embedding(Word2Vec) baseline pipeline. According to these characteristics, they make the IMDB dataset as ideal candidate for evaluating how classical statistical models and modern embedding neural network architecture perform in a real-world NLP classification task. \n"
   ]
  },
  {
   "cell_type": "markdown",
   "id": "ea405698-3a08-4865-a1ff-32f137d1558d",
   "metadata": {},
   "source": [
    "### 4. Evaluation Methodology"
   ]
  },
  {
   "cell_type": "markdown",
   "id": "95a64584-b399-44e1-9316-ce6df1c9b406",
   "metadata": {},
   "source": [
    "To conduct a through and fair comparison between statistical and embedding based sentiment analysis, we will evaluate both models using both primary performance metrics and secondary analytical techniques. The primary evaluation will be focus on accuracy, precision, recall, and F1-score of the models which will computed for both positive and negative sentiment classes. These metrics will be derived using the “classification_report” utility from scikit-learn library, offering a detailed breakdown of each model’s ability to balance correct predictions. \n",
    "\n",
    "In addition to these metrics, we will employ secondary analyses to gain further insight such as confusion matrix used to visualize the distribution of predictions across true and predicted labels. This will allow us to identify frequent error pattern, if the model consistently mislabels it can inform model refinement and feature engineering. \n",
    "\n",
    "Statistical significant testing is conducted to enhance the reliability of our findings. For example, a paired t-test on cross validated accuracy score can be used to evaluate whether the observed differences in accuracy between two models are due to random variation or statistically meaningful. To ensure consistency, both models trained using the same training split and evaluated on an identical hold-out test set. By directly comparing overall accuracy and per class F1-socres, we will determine which models delivers better sentiment classification and understand the trade-offs in speed, interpretability and generalization.\n"
   ]
  },
  {
   "cell_type": "markdown",
   "id": "beed6c10-0cfb-4676-b711-c64151de20c3",
   "metadata": {},
   "source": [
    "## II. Implementation"
   ]
  },
  {
   "cell_type": "markdown",
   "id": "fdddfe02-311b-4582-85e6-220e34f8bbca",
   "metadata": {},
   "source": [
    "#### Import Necessary Library and Module"
   ]
  },
  {
   "cell_type": "code",
   "execution_count": 1,
   "id": "a0ad2075-ce0e-4d2c-89bc-f0239b6fab62",
   "metadata": {},
   "outputs": [],
   "source": [
    "import numpy as np\n",
    "import pandas as pd\n",
    "from sklearn.model_selection import train_test_split\n",
    "from sklearn.feature_extraction.text import CountVectorizer, TfidfVectorizer\n",
    "from sklearn.linear_model import LogisticRegression\n",
    "from sklearn.metrics import classification_report, confusion_matrix\n",
    "import nltk\n",
    "from nltk.corpus import stopwords\n",
    "from gensim.models import Word2Vec\n",
    "import tensorflow as tf\n",
    "from tensorflow.keras.models import Sequential\n",
    "from tensorflow.keras.layers import Dense, Embedding, GlobalAveragePooling1D\n",
    "import matplotlib.pyplot as plt\n",
    "import os \n",
    "import pandas as pd\n",
    "from tqdm import tqdm\n",
    "import seaborn as sns\n",
    "from nltk.stem import WordNetLemmatizer"
   ]
  },
  {
   "cell_type": "code",
   "execution_count": 2,
   "id": "2f013565-8427-4cc8-addc-004904c879ab",
   "metadata": {},
   "outputs": [
    {
     "name": "stderr",
     "output_type": "stream",
     "text": [
      "[nltk_data] Downloading package stopwords to\n",
      "[nltk_data]     C:\\Users\\leeyh\\AppData\\Roaming\\nltk_data...\n",
      "[nltk_data]   Package stopwords is already up-to-date!\n",
      "[nltk_data] Downloading package punkt_tab to\n",
      "[nltk_data]     C:\\Users\\leeyh\\AppData\\Roaming\\nltk_data...\n",
      "[nltk_data]   Package punkt_tab is already up-to-date!\n"
     ]
    }
   ],
   "source": [
    "# Download NLTK data\n",
    "nltk.download('stopwords')\n",
    "nltk.download('punkt_tab')\n",
    "stop_words = set(stopwords.words('english'))"
   ]
  },
  {
   "cell_type": "markdown",
   "id": "efd53991-a5dd-4769-b3e9-fbb31853d9f7",
   "metadata": {},
   "source": [
    "### 5. Data Preprocessing"
   ]
  },
  {
   "cell_type": "markdown",
   "id": "b28baf0e-5989-4e90-a680-fc66d5fbc059",
   "metadata": {},
   "source": [
    "During data preprocessing phase, the raw “.txt” file are first loaded and organized into a machine-readable format. This is achieved by using a custom function “load_imbd_split” to traverse through the directory structure of the datasets and read each .txt file, assigning label of 1 for positive and 0 for negative reviews. "
   ]
  },
  {
   "cell_type": "code",
   "execution_count": 3,
   "id": "e1f622f3-d87a-4811-9614-3e89c387ecff",
   "metadata": {},
   "outputs": [
    {
     "name": "stdout",
     "output_type": "stream",
     "text": [
      "Loading train (75005 files)\n"
     ]
    },
    {
     "name": "stderr",
     "output_type": "stream",
     "text": [
      "train/pos: 100%|█████████████████████████████████████████████████████████████████| 12500/12500 [02:29<00:00, 83.86it/s]\n",
      "train/neg: 100%|█████████████████████████████████████████████████████████████████| 12500/12500 [02:25<00:00, 85.88it/s]\n"
     ]
    },
    {
     "name": "stdout",
     "output_type": "stream",
     "text": [
      "Loading test (25003 files)\n"
     ]
    },
    {
     "name": "stderr",
     "output_type": "stream",
     "text": [
      "test/pos: 100%|██████████████████████████████████████████████████████████████████| 12500/12500 [02:27<00:00, 84.50it/s]\n",
      "test/neg: 100%|██████████████████████████████████████████████████████████████████| 12500/12500 [02:29<00:00, 83.67it/s]\n"
     ]
    }
   ],
   "source": [
    "def load_imdb_split(base_dir, split):\n",
    "     # Initialize empty lists to store review texts and corresponding labels\n",
    "    texts, labels = [], []\n",
    "    split_dir = os.path.join(base_dir, split)\n",
    "    # Count the total number of files for progress information\n",
    "    total = sum(len(files) for _, _, files in os.walk(split_dir) if files)\n",
    "    print(f\"Loading {split} ({total} files)\")\n",
    "    # Loop over sentiment classes: 'pos' for positive, 'neg' for negative\n",
    "    for label_type in ['pos', 'neg']:\n",
    "        dir_path = os.path.join(split_dir, label_type)\n",
    "        # List all files in the directory and show a progress bar while iterating\n",
    "        for fname in tqdm(os.listdir(dir_path), desc=f\"{split}/{label_type}\", total=len(os.listdir(dir_path))):\n",
    "            # Process only text files\n",
    "            if fname.endswith('.txt'):\n",
    "                # Open and read the file using UTF-8 encoding\n",
    "                with open(os.path.join(dir_path, fname), encoding='utf-8') as f:\n",
    "                    texts.append(f.read())\n",
    "                # Assign label: 1 for 'pos', 0 for 'neg'\n",
    "                labels.append(1 if label_type == 'pos' else 0)\n",
    "    # Return the texts and labels as pandas Series for compatibility with preprocessing tools\n",
    "    return pd.Series(texts), pd.Series(labels)\n",
    "\n",
    "imdb_dir = 'aclImdb'\n",
    "X_train, y_train = load_imdb_split(imdb_dir, 'train')\n",
    "X_test,  y_test  = load_imdb_split(imdb_dir, 'test')"
   ]
  },
  {
   "cell_type": "markdown",
   "id": "5cf4eeb3-d502-4be2-8ad4-9a8212f14fda",
   "metadata": {},
   "source": [
    "The function above, also used “os” module to locate files and “tqdm” to display progress as the reviews are loaded into the function, providing real-time update during the data loading process. \n",
    "\n",
    "Once loaded, the raw text undergo a series of  preprocessing steps to convert them into suitable format for machine learning.  For statistical modelling approaches, texts are vectorized into TF-IDF metrics, which represent the importance of each word in a document relative corpus. For deep learning model rely on embedding, texts are instead kept as a list of tokens which suitable for Word2Vec model. As shown in below, is the data preprocessing function to preform data preprocess to the dataset. \n"
   ]
  },
  {
   "cell_type": "code",
   "execution_count": 4,
   "id": "5d656feb-a8f7-4ca5-b51c-9b7b12f17e7f",
   "metadata": {},
   "outputs": [
    {
     "name": "stderr",
     "output_type": "stream",
     "text": [
      "Preprocessing train: 100%|██████████████████████████████████████████████████████| 25000/25000 [01:16<00:00, 328.41it/s]\n",
      "Preprocessing test: 100%|███████████████████████████████████████████████████████| 25000/25000 [01:08<00:00, 367.57it/s]\n"
     ]
    }
   ],
   "source": [
    "tqdm.pandas()\n",
    "lemmatizer = WordNetLemmatizer()\n",
    "def preprocess(text):\n",
    "    # Tokenize the text into individual words and convert to lowercase\n",
    "    tokens = nltk.word_tokenize(text.lower())\n",
    "    # Keep only alphabetic tokens and remove stop words\n",
    "    tokens = [t for t in tokens if t.isalpha() and t not in stop_words]\n",
    "    # Lemmatize each token to its base/dictionary form\n",
    "    tokens = [lemmatizer.lemmatize(t) for t in tokens]\n",
    "    # Join the cleaned tokens back into a single string\n",
    "    return ' '.join(tokens)\n",
    "\n",
    "X_train_clean = X_train.copy()\n",
    "# Apply the preprocessing function to each training review, with a progress bar\n",
    "X_train_clean = [preprocess(text) for text in tqdm(X_train_clean, desc=\"Preprocessing train\")]\n",
    "\n",
    "\n",
    "X_test_clean = X_test.copy()\n",
    "# Apply the preprocessing function to each test review, with a separate progress bar\n",
    "X_test_clean = [preprocess(text) for text in tqdm(X_test_clean, desc=\"Preprocessing test\")]"
   ]
  },
  {
   "cell_type": "markdown",
   "id": "1d0302dc-fbc3-4a52-83e8-428ada029c55",
   "metadata": {},
   "source": [
    "According to the cleaning pipeline applied on the function above, several steps is applied to each review. Firstly, tokenization is performed using NLTK’s “word_tokenize”, which breaks each review into individual words to enable downstream text analysis. All tokens are then lowercased with “text.lower()” to ensure uniformity across the dataset, merging variations such as “Good” and “good” with “t.isalpha()”. Common stop words such as “is”, “are”, and “the” which do not contribute to sentiment detection, are excluded using NLTK’s predefined stop-word list. Lastly, lemmatization is carried out with NLTK’s “WordLemmatizer”  to reduce each word to its base form such as from action “performing”  into noun “performe”. This process helps to normalize the vocabulary, allowing the models top to generalize better across different word forms. Preprocess steps on dataset is to ensure the text data is clean, structured, and ready for effective training on both statistical and modern embedding sentiment classifiers.  "
   ]
  },
  {
   "cell_type": "markdown",
   "id": "7b404b20-2074-4ab6-a174-4517318f73bf",
   "metadata": {},
   "source": [
    "### 6. Baseline Performance"
   ]
  },
  {
   "cell_type": "markdown",
   "id": "07917b02-30b2-4e8f-8cd0-8025a9bada3e",
   "metadata": {},
   "source": [
    "#### Baseline Statistical Model"
   ]
  },
  {
   "cell_type": "markdown",
   "id": "ed44e0d7-96f6-4841-bcc4-7047febaaff4",
   "metadata": {},
   "source": [
    "To establish a meaningful benchmark for evaluating performance of more advanced model, we adopt a widely baseline combining TF-IDF vectorization with logistic regression. According to the influential work(Pang and Lee 2008)[1], the baseline is chosen for its simplicity, interpretability., and effectiveness handling high dimensional dataset. TF-IDF transforms the raw text data into a numerical representation by weighting terms based on their frequency in a document relative to their occurrence across the entire corpus of the dataset. We set a “max_features = 5000” to limit dimensionality and retain the most informative terms. According to the code below, the resulting vectors are used to train a logistic regression classifier, which is chosen for its simplicity, low computational cost and strong performance on linearly sperate datasets. \n"
   ]
  },
  {
   "cell_type": "code",
   "execution_count": 5,
   "id": "78fe977e-fa64-4f13-b368-f5478815fccc",
   "metadata": {},
   "outputs": [],
   "source": [
    "# Initialize the TF-IDF vectorizer, limiting to the top 5000 most frequent terms\n",
    "vectorizer =TfidfVectorizer(max_features=5000)\n",
    "# Fit the vectorizer on the training data and transform it into a TF-IDF feature matrix\n",
    "X_train_tfidf = vectorizer.fit_transform(X_train_clean)\n",
    "# Transform the test data using the already-fitted vectorizer to avoid data leakage\n",
    "X_test_tfidf = vectorizer.fit_transform(X_test_clean)"
   ]
  },
  {
   "cell_type": "code",
   "execution_count": 6,
   "id": "95c565d5-1519-46ba-af07-c6ad729b0ff1",
   "metadata": {},
   "outputs": [],
   "source": [
    "# Initialize a Logistic Regression classifier with a maximum of 1000 iterations to ensure convergence\n",
    "clf = LogisticRegression(max_iter=1000)"
   ]
  },
  {
   "cell_type": "code",
   "execution_count": 7,
   "id": "d110d1ca-75b9-453d-8605-97e84899e722",
   "metadata": {},
   "outputs": [
    {
     "data": {
      "text/html": [
       "<style>#sk-container-id-1 {\n",
       "  /* Definition of color scheme common for light and dark mode */\n",
       "  --sklearn-color-text: #000;\n",
       "  --sklearn-color-text-muted: #666;\n",
       "  --sklearn-color-line: gray;\n",
       "  /* Definition of color scheme for unfitted estimators */\n",
       "  --sklearn-color-unfitted-level-0: #fff5e6;\n",
       "  --sklearn-color-unfitted-level-1: #f6e4d2;\n",
       "  --sklearn-color-unfitted-level-2: #ffe0b3;\n",
       "  --sklearn-color-unfitted-level-3: chocolate;\n",
       "  /* Definition of color scheme for fitted estimators */\n",
       "  --sklearn-color-fitted-level-0: #f0f8ff;\n",
       "  --sklearn-color-fitted-level-1: #d4ebff;\n",
       "  --sklearn-color-fitted-level-2: #b3dbfd;\n",
       "  --sklearn-color-fitted-level-3: cornflowerblue;\n",
       "\n",
       "  /* Specific color for light theme */\n",
       "  --sklearn-color-text-on-default-background: var(--sg-text-color, var(--theme-code-foreground, var(--jp-content-font-color1, black)));\n",
       "  --sklearn-color-background: var(--sg-background-color, var(--theme-background, var(--jp-layout-color0, white)));\n",
       "  --sklearn-color-border-box: var(--sg-text-color, var(--theme-code-foreground, var(--jp-content-font-color1, black)));\n",
       "  --sklearn-color-icon: #696969;\n",
       "\n",
       "  @media (prefers-color-scheme: dark) {\n",
       "    /* Redefinition of color scheme for dark theme */\n",
       "    --sklearn-color-text-on-default-background: var(--sg-text-color, var(--theme-code-foreground, var(--jp-content-font-color1, white)));\n",
       "    --sklearn-color-background: var(--sg-background-color, var(--theme-background, var(--jp-layout-color0, #111)));\n",
       "    --sklearn-color-border-box: var(--sg-text-color, var(--theme-code-foreground, var(--jp-content-font-color1, white)));\n",
       "    --sklearn-color-icon: #878787;\n",
       "  }\n",
       "}\n",
       "\n",
       "#sk-container-id-1 {\n",
       "  color: var(--sklearn-color-text);\n",
       "}\n",
       "\n",
       "#sk-container-id-1 pre {\n",
       "  padding: 0;\n",
       "}\n",
       "\n",
       "#sk-container-id-1 input.sk-hidden--visually {\n",
       "  border: 0;\n",
       "  clip: rect(1px 1px 1px 1px);\n",
       "  clip: rect(1px, 1px, 1px, 1px);\n",
       "  height: 1px;\n",
       "  margin: -1px;\n",
       "  overflow: hidden;\n",
       "  padding: 0;\n",
       "  position: absolute;\n",
       "  width: 1px;\n",
       "}\n",
       "\n",
       "#sk-container-id-1 div.sk-dashed-wrapped {\n",
       "  border: 1px dashed var(--sklearn-color-line);\n",
       "  margin: 0 0.4em 0.5em 0.4em;\n",
       "  box-sizing: border-box;\n",
       "  padding-bottom: 0.4em;\n",
       "  background-color: var(--sklearn-color-background);\n",
       "}\n",
       "\n",
       "#sk-container-id-1 div.sk-container {\n",
       "  /* jupyter's `normalize.less` sets `[hidden] { display: none; }`\n",
       "     but bootstrap.min.css set `[hidden] { display: none !important; }`\n",
       "     so we also need the `!important` here to be able to override the\n",
       "     default hidden behavior on the sphinx rendered scikit-learn.org.\n",
       "     See: https://github.com/scikit-learn/scikit-learn/issues/21755 */\n",
       "  display: inline-block !important;\n",
       "  position: relative;\n",
       "}\n",
       "\n",
       "#sk-container-id-1 div.sk-text-repr-fallback {\n",
       "  display: none;\n",
       "}\n",
       "\n",
       "div.sk-parallel-item,\n",
       "div.sk-serial,\n",
       "div.sk-item {\n",
       "  /* draw centered vertical line to link estimators */\n",
       "  background-image: linear-gradient(var(--sklearn-color-text-on-default-background), var(--sklearn-color-text-on-default-background));\n",
       "  background-size: 2px 100%;\n",
       "  background-repeat: no-repeat;\n",
       "  background-position: center center;\n",
       "}\n",
       "\n",
       "/* Parallel-specific style estimator block */\n",
       "\n",
       "#sk-container-id-1 div.sk-parallel-item::after {\n",
       "  content: \"\";\n",
       "  width: 100%;\n",
       "  border-bottom: 2px solid var(--sklearn-color-text-on-default-background);\n",
       "  flex-grow: 1;\n",
       "}\n",
       "\n",
       "#sk-container-id-1 div.sk-parallel {\n",
       "  display: flex;\n",
       "  align-items: stretch;\n",
       "  justify-content: center;\n",
       "  background-color: var(--sklearn-color-background);\n",
       "  position: relative;\n",
       "}\n",
       "\n",
       "#sk-container-id-1 div.sk-parallel-item {\n",
       "  display: flex;\n",
       "  flex-direction: column;\n",
       "}\n",
       "\n",
       "#sk-container-id-1 div.sk-parallel-item:first-child::after {\n",
       "  align-self: flex-end;\n",
       "  width: 50%;\n",
       "}\n",
       "\n",
       "#sk-container-id-1 div.sk-parallel-item:last-child::after {\n",
       "  align-self: flex-start;\n",
       "  width: 50%;\n",
       "}\n",
       "\n",
       "#sk-container-id-1 div.sk-parallel-item:only-child::after {\n",
       "  width: 0;\n",
       "}\n",
       "\n",
       "/* Serial-specific style estimator block */\n",
       "\n",
       "#sk-container-id-1 div.sk-serial {\n",
       "  display: flex;\n",
       "  flex-direction: column;\n",
       "  align-items: center;\n",
       "  background-color: var(--sklearn-color-background);\n",
       "  padding-right: 1em;\n",
       "  padding-left: 1em;\n",
       "}\n",
       "\n",
       "\n",
       "/* Toggleable style: style used for estimator/Pipeline/ColumnTransformer box that is\n",
       "clickable and can be expanded/collapsed.\n",
       "- Pipeline and ColumnTransformer use this feature and define the default style\n",
       "- Estimators will overwrite some part of the style using the `sk-estimator` class\n",
       "*/\n",
       "\n",
       "/* Pipeline and ColumnTransformer style (default) */\n",
       "\n",
       "#sk-container-id-1 div.sk-toggleable {\n",
       "  /* Default theme specific background. It is overwritten whether we have a\n",
       "  specific estimator or a Pipeline/ColumnTransformer */\n",
       "  background-color: var(--sklearn-color-background);\n",
       "}\n",
       "\n",
       "/* Toggleable label */\n",
       "#sk-container-id-1 label.sk-toggleable__label {\n",
       "  cursor: pointer;\n",
       "  display: flex;\n",
       "  width: 100%;\n",
       "  margin-bottom: 0;\n",
       "  padding: 0.5em;\n",
       "  box-sizing: border-box;\n",
       "  text-align: center;\n",
       "  align-items: start;\n",
       "  justify-content: space-between;\n",
       "  gap: 0.5em;\n",
       "}\n",
       "\n",
       "#sk-container-id-1 label.sk-toggleable__label .caption {\n",
       "  font-size: 0.6rem;\n",
       "  font-weight: lighter;\n",
       "  color: var(--sklearn-color-text-muted);\n",
       "}\n",
       "\n",
       "#sk-container-id-1 label.sk-toggleable__label-arrow:before {\n",
       "  /* Arrow on the left of the label */\n",
       "  content: \"▸\";\n",
       "  float: left;\n",
       "  margin-right: 0.25em;\n",
       "  color: var(--sklearn-color-icon);\n",
       "}\n",
       "\n",
       "#sk-container-id-1 label.sk-toggleable__label-arrow:hover:before {\n",
       "  color: var(--sklearn-color-text);\n",
       "}\n",
       "\n",
       "/* Toggleable content - dropdown */\n",
       "\n",
       "#sk-container-id-1 div.sk-toggleable__content {\n",
       "  display: none;\n",
       "  text-align: left;\n",
       "  /* unfitted */\n",
       "  background-color: var(--sklearn-color-unfitted-level-0);\n",
       "}\n",
       "\n",
       "#sk-container-id-1 div.sk-toggleable__content.fitted {\n",
       "  /* fitted */\n",
       "  background-color: var(--sklearn-color-fitted-level-0);\n",
       "}\n",
       "\n",
       "#sk-container-id-1 div.sk-toggleable__content pre {\n",
       "  margin: 0.2em;\n",
       "  border-radius: 0.25em;\n",
       "  color: var(--sklearn-color-text);\n",
       "  /* unfitted */\n",
       "  background-color: var(--sklearn-color-unfitted-level-0);\n",
       "}\n",
       "\n",
       "#sk-container-id-1 div.sk-toggleable__content.fitted pre {\n",
       "  /* unfitted */\n",
       "  background-color: var(--sklearn-color-fitted-level-0);\n",
       "}\n",
       "\n",
       "#sk-container-id-1 input.sk-toggleable__control:checked~div.sk-toggleable__content {\n",
       "  /* Expand drop-down */\n",
       "  display: block;\n",
       "  width: 100%;\n",
       "  overflow: visible;\n",
       "}\n",
       "\n",
       "#sk-container-id-1 input.sk-toggleable__control:checked~label.sk-toggleable__label-arrow:before {\n",
       "  content: \"▾\";\n",
       "}\n",
       "\n",
       "/* Pipeline/ColumnTransformer-specific style */\n",
       "\n",
       "#sk-container-id-1 div.sk-label input.sk-toggleable__control:checked~label.sk-toggleable__label {\n",
       "  color: var(--sklearn-color-text);\n",
       "  background-color: var(--sklearn-color-unfitted-level-2);\n",
       "}\n",
       "\n",
       "#sk-container-id-1 div.sk-label.fitted input.sk-toggleable__control:checked~label.sk-toggleable__label {\n",
       "  background-color: var(--sklearn-color-fitted-level-2);\n",
       "}\n",
       "\n",
       "/* Estimator-specific style */\n",
       "\n",
       "/* Colorize estimator box */\n",
       "#sk-container-id-1 div.sk-estimator input.sk-toggleable__control:checked~label.sk-toggleable__label {\n",
       "  /* unfitted */\n",
       "  background-color: var(--sklearn-color-unfitted-level-2);\n",
       "}\n",
       "\n",
       "#sk-container-id-1 div.sk-estimator.fitted input.sk-toggleable__control:checked~label.sk-toggleable__label {\n",
       "  /* fitted */\n",
       "  background-color: var(--sklearn-color-fitted-level-2);\n",
       "}\n",
       "\n",
       "#sk-container-id-1 div.sk-label label.sk-toggleable__label,\n",
       "#sk-container-id-1 div.sk-label label {\n",
       "  /* The background is the default theme color */\n",
       "  color: var(--sklearn-color-text-on-default-background);\n",
       "}\n",
       "\n",
       "/* On hover, darken the color of the background */\n",
       "#sk-container-id-1 div.sk-label:hover label.sk-toggleable__label {\n",
       "  color: var(--sklearn-color-text);\n",
       "  background-color: var(--sklearn-color-unfitted-level-2);\n",
       "}\n",
       "\n",
       "/* Label box, darken color on hover, fitted */\n",
       "#sk-container-id-1 div.sk-label.fitted:hover label.sk-toggleable__label.fitted {\n",
       "  color: var(--sklearn-color-text);\n",
       "  background-color: var(--sklearn-color-fitted-level-2);\n",
       "}\n",
       "\n",
       "/* Estimator label */\n",
       "\n",
       "#sk-container-id-1 div.sk-label label {\n",
       "  font-family: monospace;\n",
       "  font-weight: bold;\n",
       "  display: inline-block;\n",
       "  line-height: 1.2em;\n",
       "}\n",
       "\n",
       "#sk-container-id-1 div.sk-label-container {\n",
       "  text-align: center;\n",
       "}\n",
       "\n",
       "/* Estimator-specific */\n",
       "#sk-container-id-1 div.sk-estimator {\n",
       "  font-family: monospace;\n",
       "  border: 1px dotted var(--sklearn-color-border-box);\n",
       "  border-radius: 0.25em;\n",
       "  box-sizing: border-box;\n",
       "  margin-bottom: 0.5em;\n",
       "  /* unfitted */\n",
       "  background-color: var(--sklearn-color-unfitted-level-0);\n",
       "}\n",
       "\n",
       "#sk-container-id-1 div.sk-estimator.fitted {\n",
       "  /* fitted */\n",
       "  background-color: var(--sklearn-color-fitted-level-0);\n",
       "}\n",
       "\n",
       "/* on hover */\n",
       "#sk-container-id-1 div.sk-estimator:hover {\n",
       "  /* unfitted */\n",
       "  background-color: var(--sklearn-color-unfitted-level-2);\n",
       "}\n",
       "\n",
       "#sk-container-id-1 div.sk-estimator.fitted:hover {\n",
       "  /* fitted */\n",
       "  background-color: var(--sklearn-color-fitted-level-2);\n",
       "}\n",
       "\n",
       "/* Specification for estimator info (e.g. \"i\" and \"?\") */\n",
       "\n",
       "/* Common style for \"i\" and \"?\" */\n",
       "\n",
       ".sk-estimator-doc-link,\n",
       "a:link.sk-estimator-doc-link,\n",
       "a:visited.sk-estimator-doc-link {\n",
       "  float: right;\n",
       "  font-size: smaller;\n",
       "  line-height: 1em;\n",
       "  font-family: monospace;\n",
       "  background-color: var(--sklearn-color-background);\n",
       "  border-radius: 1em;\n",
       "  height: 1em;\n",
       "  width: 1em;\n",
       "  text-decoration: none !important;\n",
       "  margin-left: 0.5em;\n",
       "  text-align: center;\n",
       "  /* unfitted */\n",
       "  border: var(--sklearn-color-unfitted-level-1) 1pt solid;\n",
       "  color: var(--sklearn-color-unfitted-level-1);\n",
       "}\n",
       "\n",
       ".sk-estimator-doc-link.fitted,\n",
       "a:link.sk-estimator-doc-link.fitted,\n",
       "a:visited.sk-estimator-doc-link.fitted {\n",
       "  /* fitted */\n",
       "  border: var(--sklearn-color-fitted-level-1) 1pt solid;\n",
       "  color: var(--sklearn-color-fitted-level-1);\n",
       "}\n",
       "\n",
       "/* On hover */\n",
       "div.sk-estimator:hover .sk-estimator-doc-link:hover,\n",
       ".sk-estimator-doc-link:hover,\n",
       "div.sk-label-container:hover .sk-estimator-doc-link:hover,\n",
       ".sk-estimator-doc-link:hover {\n",
       "  /* unfitted */\n",
       "  background-color: var(--sklearn-color-unfitted-level-3);\n",
       "  color: var(--sklearn-color-background);\n",
       "  text-decoration: none;\n",
       "}\n",
       "\n",
       "div.sk-estimator.fitted:hover .sk-estimator-doc-link.fitted:hover,\n",
       ".sk-estimator-doc-link.fitted:hover,\n",
       "div.sk-label-container:hover .sk-estimator-doc-link.fitted:hover,\n",
       ".sk-estimator-doc-link.fitted:hover {\n",
       "  /* fitted */\n",
       "  background-color: var(--sklearn-color-fitted-level-3);\n",
       "  color: var(--sklearn-color-background);\n",
       "  text-decoration: none;\n",
       "}\n",
       "\n",
       "/* Span, style for the box shown on hovering the info icon */\n",
       ".sk-estimator-doc-link span {\n",
       "  display: none;\n",
       "  z-index: 9999;\n",
       "  position: relative;\n",
       "  font-weight: normal;\n",
       "  right: .2ex;\n",
       "  padding: .5ex;\n",
       "  margin: .5ex;\n",
       "  width: min-content;\n",
       "  min-width: 20ex;\n",
       "  max-width: 50ex;\n",
       "  color: var(--sklearn-color-text);\n",
       "  box-shadow: 2pt 2pt 4pt #999;\n",
       "  /* unfitted */\n",
       "  background: var(--sklearn-color-unfitted-level-0);\n",
       "  border: .5pt solid var(--sklearn-color-unfitted-level-3);\n",
       "}\n",
       "\n",
       ".sk-estimator-doc-link.fitted span {\n",
       "  /* fitted */\n",
       "  background: var(--sklearn-color-fitted-level-0);\n",
       "  border: var(--sklearn-color-fitted-level-3);\n",
       "}\n",
       "\n",
       ".sk-estimator-doc-link:hover span {\n",
       "  display: block;\n",
       "}\n",
       "\n",
       "/* \"?\"-specific style due to the `<a>` HTML tag */\n",
       "\n",
       "#sk-container-id-1 a.estimator_doc_link {\n",
       "  float: right;\n",
       "  font-size: 1rem;\n",
       "  line-height: 1em;\n",
       "  font-family: monospace;\n",
       "  background-color: var(--sklearn-color-background);\n",
       "  border-radius: 1rem;\n",
       "  height: 1rem;\n",
       "  width: 1rem;\n",
       "  text-decoration: none;\n",
       "  /* unfitted */\n",
       "  color: var(--sklearn-color-unfitted-level-1);\n",
       "  border: var(--sklearn-color-unfitted-level-1) 1pt solid;\n",
       "}\n",
       "\n",
       "#sk-container-id-1 a.estimator_doc_link.fitted {\n",
       "  /* fitted */\n",
       "  border: var(--sklearn-color-fitted-level-1) 1pt solid;\n",
       "  color: var(--sklearn-color-fitted-level-1);\n",
       "}\n",
       "\n",
       "/* On hover */\n",
       "#sk-container-id-1 a.estimator_doc_link:hover {\n",
       "  /* unfitted */\n",
       "  background-color: var(--sklearn-color-unfitted-level-3);\n",
       "  color: var(--sklearn-color-background);\n",
       "  text-decoration: none;\n",
       "}\n",
       "\n",
       "#sk-container-id-1 a.estimator_doc_link.fitted:hover {\n",
       "  /* fitted */\n",
       "  background-color: var(--sklearn-color-fitted-level-3);\n",
       "}\n",
       "\n",
       ".estimator-table summary {\n",
       "    padding: .5rem;\n",
       "    font-family: monospace;\n",
       "    cursor: pointer;\n",
       "}\n",
       "\n",
       ".estimator-table details[open] {\n",
       "    padding-left: 0.1rem;\n",
       "    padding-right: 0.1rem;\n",
       "    padding-bottom: 0.3rem;\n",
       "}\n",
       "\n",
       ".estimator-table .parameters-table {\n",
       "    margin-left: auto !important;\n",
       "    margin-right: auto !important;\n",
       "}\n",
       "\n",
       ".estimator-table .parameters-table tr:nth-child(odd) {\n",
       "    background-color: #fff;\n",
       "}\n",
       "\n",
       ".estimator-table .parameters-table tr:nth-child(even) {\n",
       "    background-color: #f6f6f6;\n",
       "}\n",
       "\n",
       ".estimator-table .parameters-table tr:hover {\n",
       "    background-color: #e0e0e0;\n",
       "}\n",
       "\n",
       ".estimator-table table td {\n",
       "    border: 1px solid rgba(106, 105, 104, 0.232);\n",
       "}\n",
       "\n",
       ".user-set td {\n",
       "    color:rgb(255, 94, 0);\n",
       "    text-align: left;\n",
       "}\n",
       "\n",
       ".user-set td.value pre {\n",
       "    color:rgb(255, 94, 0) !important;\n",
       "    background-color: transparent !important;\n",
       "}\n",
       "\n",
       ".default td {\n",
       "    color: black;\n",
       "    text-align: left;\n",
       "}\n",
       "\n",
       ".user-set td i,\n",
       ".default td i {\n",
       "    color: black;\n",
       "}\n",
       "\n",
       ".copy-paste-icon {\n",
       "    background-image: url(data:image/svg+xml;base64,PHN2ZyB4bWxucz0iaHR0cDovL3d3dy53My5vcmcvMjAwMC9zdmciIHZpZXdCb3g9IjAgMCA0NDggNTEyIj48IS0tIUZvbnQgQXdlc29tZSBGcmVlIDYuNy4yIGJ5IEBmb250YXdlc29tZSAtIGh0dHBzOi8vZm9udGF3ZXNvbWUuY29tIExpY2Vuc2UgLSBodHRwczovL2ZvbnRhd2Vzb21lLmNvbS9saWNlbnNlL2ZyZWUgQ29weXJpZ2h0IDIwMjUgRm9udGljb25zLCBJbmMuLS0+PHBhdGggZD0iTTIwOCAwTDMzMi4xIDBjMTIuNyAwIDI0LjkgNS4xIDMzLjkgMTQuMWw2Ny45IDY3LjljOSA5IDE0LjEgMjEuMiAxNC4xIDMzLjlMNDQ4IDMzNmMwIDI2LjUtMjEuNSA0OC00OCA0OGwtMTkyIDBjLTI2LjUgMC00OC0yMS41LTQ4LTQ4bDAtMjg4YzAtMjYuNSAyMS41LTQ4IDQ4LTQ4ek00OCAxMjhsODAgMCAwIDY0LTY0IDAgMCAyNTYgMTkyIDAgMC0zMiA2NCAwIDAgNDhjMCAyNi41LTIxLjUgNDgtNDggNDhMNDggNTEyYy0yNi41IDAtNDgtMjEuNS00OC00OEwwIDE3NmMwLTI2LjUgMjEuNS00OCA0OC00OHoiLz48L3N2Zz4=);\n",
       "    background-repeat: no-repeat;\n",
       "    background-size: 14px 14px;\n",
       "    background-position: 0;\n",
       "    display: inline-block;\n",
       "    width: 14px;\n",
       "    height: 14px;\n",
       "    cursor: pointer;\n",
       "}\n",
       "</style><body><div id=\"sk-container-id-1\" class=\"sk-top-container\"><div class=\"sk-text-repr-fallback\"><pre>LogisticRegression(max_iter=1000)</pre><b>In a Jupyter environment, please rerun this cell to show the HTML representation or trust the notebook. <br />On GitHub, the HTML representation is unable to render, please try loading this page with nbviewer.org.</b></div><div class=\"sk-container\" hidden><div class=\"sk-item\"><div class=\"sk-estimator fitted sk-toggleable\"><input class=\"sk-toggleable__control sk-hidden--visually\" id=\"sk-estimator-id-1\" type=\"checkbox\" checked><label for=\"sk-estimator-id-1\" class=\"sk-toggleable__label fitted sk-toggleable__label-arrow\"><div><div>LogisticRegression</div></div><div><a class=\"sk-estimator-doc-link fitted\" rel=\"noreferrer\" target=\"_blank\" href=\"https://scikit-learn.org/1.7/modules/generated/sklearn.linear_model.LogisticRegression.html\">?<span>Documentation for LogisticRegression</span></a><span class=\"sk-estimator-doc-link fitted\">i<span>Fitted</span></span></div></label><div class=\"sk-toggleable__content fitted\" data-param-prefix=\"\">\n",
       "        <div class=\"estimator-table\">\n",
       "            <details>\n",
       "                <summary>Parameters</summary>\n",
       "                <table class=\"parameters-table\">\n",
       "                  <tbody>\n",
       "                    \n",
       "        <tr class=\"default\">\n",
       "            <td><i class=\"copy-paste-icon\"\n",
       "                 onclick=\"copyToClipboard('penalty',\n",
       "                          this.parentElement.nextElementSibling)\"\n",
       "            ></i></td>\n",
       "            <td class=\"param\">penalty&nbsp;</td>\n",
       "            <td class=\"value\">&#x27;l2&#x27;</td>\n",
       "        </tr>\n",
       "    \n",
       "\n",
       "        <tr class=\"default\">\n",
       "            <td><i class=\"copy-paste-icon\"\n",
       "                 onclick=\"copyToClipboard('dual',\n",
       "                          this.parentElement.nextElementSibling)\"\n",
       "            ></i></td>\n",
       "            <td class=\"param\">dual&nbsp;</td>\n",
       "            <td class=\"value\">False</td>\n",
       "        </tr>\n",
       "    \n",
       "\n",
       "        <tr class=\"default\">\n",
       "            <td><i class=\"copy-paste-icon\"\n",
       "                 onclick=\"copyToClipboard('tol',\n",
       "                          this.parentElement.nextElementSibling)\"\n",
       "            ></i></td>\n",
       "            <td class=\"param\">tol&nbsp;</td>\n",
       "            <td class=\"value\">0.0001</td>\n",
       "        </tr>\n",
       "    \n",
       "\n",
       "        <tr class=\"default\">\n",
       "            <td><i class=\"copy-paste-icon\"\n",
       "                 onclick=\"copyToClipboard('C',\n",
       "                          this.parentElement.nextElementSibling)\"\n",
       "            ></i></td>\n",
       "            <td class=\"param\">C&nbsp;</td>\n",
       "            <td class=\"value\">1.0</td>\n",
       "        </tr>\n",
       "    \n",
       "\n",
       "        <tr class=\"default\">\n",
       "            <td><i class=\"copy-paste-icon\"\n",
       "                 onclick=\"copyToClipboard('fit_intercept',\n",
       "                          this.parentElement.nextElementSibling)\"\n",
       "            ></i></td>\n",
       "            <td class=\"param\">fit_intercept&nbsp;</td>\n",
       "            <td class=\"value\">True</td>\n",
       "        </tr>\n",
       "    \n",
       "\n",
       "        <tr class=\"default\">\n",
       "            <td><i class=\"copy-paste-icon\"\n",
       "                 onclick=\"copyToClipboard('intercept_scaling',\n",
       "                          this.parentElement.nextElementSibling)\"\n",
       "            ></i></td>\n",
       "            <td class=\"param\">intercept_scaling&nbsp;</td>\n",
       "            <td class=\"value\">1</td>\n",
       "        </tr>\n",
       "    \n",
       "\n",
       "        <tr class=\"default\">\n",
       "            <td><i class=\"copy-paste-icon\"\n",
       "                 onclick=\"copyToClipboard('class_weight',\n",
       "                          this.parentElement.nextElementSibling)\"\n",
       "            ></i></td>\n",
       "            <td class=\"param\">class_weight&nbsp;</td>\n",
       "            <td class=\"value\">None</td>\n",
       "        </tr>\n",
       "    \n",
       "\n",
       "        <tr class=\"default\">\n",
       "            <td><i class=\"copy-paste-icon\"\n",
       "                 onclick=\"copyToClipboard('random_state',\n",
       "                          this.parentElement.nextElementSibling)\"\n",
       "            ></i></td>\n",
       "            <td class=\"param\">random_state&nbsp;</td>\n",
       "            <td class=\"value\">None</td>\n",
       "        </tr>\n",
       "    \n",
       "\n",
       "        <tr class=\"default\">\n",
       "            <td><i class=\"copy-paste-icon\"\n",
       "                 onclick=\"copyToClipboard('solver',\n",
       "                          this.parentElement.nextElementSibling)\"\n",
       "            ></i></td>\n",
       "            <td class=\"param\">solver&nbsp;</td>\n",
       "            <td class=\"value\">&#x27;lbfgs&#x27;</td>\n",
       "        </tr>\n",
       "    \n",
       "\n",
       "        <tr class=\"user-set\">\n",
       "            <td><i class=\"copy-paste-icon\"\n",
       "                 onclick=\"copyToClipboard('max_iter',\n",
       "                          this.parentElement.nextElementSibling)\"\n",
       "            ></i></td>\n",
       "            <td class=\"param\">max_iter&nbsp;</td>\n",
       "            <td class=\"value\">1000</td>\n",
       "        </tr>\n",
       "    \n",
       "\n",
       "        <tr class=\"default\">\n",
       "            <td><i class=\"copy-paste-icon\"\n",
       "                 onclick=\"copyToClipboard('multi_class',\n",
       "                          this.parentElement.nextElementSibling)\"\n",
       "            ></i></td>\n",
       "            <td class=\"param\">multi_class&nbsp;</td>\n",
       "            <td class=\"value\">&#x27;deprecated&#x27;</td>\n",
       "        </tr>\n",
       "    \n",
       "\n",
       "        <tr class=\"default\">\n",
       "            <td><i class=\"copy-paste-icon\"\n",
       "                 onclick=\"copyToClipboard('verbose',\n",
       "                          this.parentElement.nextElementSibling)\"\n",
       "            ></i></td>\n",
       "            <td class=\"param\">verbose&nbsp;</td>\n",
       "            <td class=\"value\">0</td>\n",
       "        </tr>\n",
       "    \n",
       "\n",
       "        <tr class=\"default\">\n",
       "            <td><i class=\"copy-paste-icon\"\n",
       "                 onclick=\"copyToClipboard('warm_start',\n",
       "                          this.parentElement.nextElementSibling)\"\n",
       "            ></i></td>\n",
       "            <td class=\"param\">warm_start&nbsp;</td>\n",
       "            <td class=\"value\">False</td>\n",
       "        </tr>\n",
       "    \n",
       "\n",
       "        <tr class=\"default\">\n",
       "            <td><i class=\"copy-paste-icon\"\n",
       "                 onclick=\"copyToClipboard('n_jobs',\n",
       "                          this.parentElement.nextElementSibling)\"\n",
       "            ></i></td>\n",
       "            <td class=\"param\">n_jobs&nbsp;</td>\n",
       "            <td class=\"value\">None</td>\n",
       "        </tr>\n",
       "    \n",
       "\n",
       "        <tr class=\"default\">\n",
       "            <td><i class=\"copy-paste-icon\"\n",
       "                 onclick=\"copyToClipboard('l1_ratio',\n",
       "                          this.parentElement.nextElementSibling)\"\n",
       "            ></i></td>\n",
       "            <td class=\"param\">l1_ratio&nbsp;</td>\n",
       "            <td class=\"value\">None</td>\n",
       "        </tr>\n",
       "    \n",
       "                  </tbody>\n",
       "                </table>\n",
       "            </details>\n",
       "        </div>\n",
       "    </div></div></div></div></div><script>function copyToClipboard(text, element) {\n",
       "    // Get the parameter prefix from the closest toggleable content\n",
       "    const toggleableContent = element.closest('.sk-toggleable__content');\n",
       "    const paramPrefix = toggleableContent ? toggleableContent.dataset.paramPrefix : '';\n",
       "    const fullParamName = paramPrefix ? `${paramPrefix}${text}` : text;\n",
       "\n",
       "    const originalStyle = element.style;\n",
       "    const computedStyle = window.getComputedStyle(element);\n",
       "    const originalWidth = computedStyle.width;\n",
       "    const originalHTML = element.innerHTML.replace('Copied!', '');\n",
       "\n",
       "    navigator.clipboard.writeText(fullParamName)\n",
       "        .then(() => {\n",
       "            element.style.width = originalWidth;\n",
       "            element.style.color = 'green';\n",
       "            element.innerHTML = \"Copied!\";\n",
       "\n",
       "            setTimeout(() => {\n",
       "                element.innerHTML = originalHTML;\n",
       "                element.style = originalStyle;\n",
       "            }, 2000);\n",
       "        })\n",
       "        .catch(err => {\n",
       "            console.error('Failed to copy:', err);\n",
       "            element.style.color = 'red';\n",
       "            element.innerHTML = \"Failed!\";\n",
       "            setTimeout(() => {\n",
       "                element.innerHTML = originalHTML;\n",
       "                element.style = originalStyle;\n",
       "            }, 2000);\n",
       "        });\n",
       "    return false;\n",
       "}\n",
       "\n",
       "document.querySelectorAll('.fa-regular.fa-copy').forEach(function(element) {\n",
       "    const toggleableContent = element.closest('.sk-toggleable__content');\n",
       "    const paramPrefix = toggleableContent ? toggleableContent.dataset.paramPrefix : '';\n",
       "    const paramName = element.parentElement.nextElementSibling.textContent.trim();\n",
       "    const fullParamName = paramPrefix ? `${paramPrefix}${paramName}` : paramName;\n",
       "\n",
       "    element.setAttribute('title', fullParamName);\n",
       "});\n",
       "</script></body>"
      ],
      "text/plain": [
       "LogisticRegression(max_iter=1000)"
      ]
     },
     "execution_count": 7,
     "metadata": {},
     "output_type": "execute_result"
    }
   ],
   "source": [
    "# Train (fit) the classifier using the TF-IDF-transformed training data and the corresponding \n",
    "clf.fit(X_train_tfidf, y_train)"
   ]
  },
  {
   "cell_type": "markdown",
   "id": "d8590593-25aa-4c37-820b-7d50e5ed76e9",
   "metadata": {},
   "source": [
    "The model is trained on the transformed training set with “max_iter=1000” to ensure convergence, and the TF-IDF is limited to the top 5000 most informative features to manage dimensionality and overfitting. This baseline is not only easy to reproduce but also sets a strong reference point which allow us to assess more sophisticated method such as modern deep learning embedding offer statistically significant improvements. Comparison between baseline statistical model and embedding based model will be rigorous and interpretable for our evaluation of models.  "
   ]
  },
  {
   "cell_type": "markdown",
   "id": "2af15eea-92ca-42d9-a98c-5636a71c7541",
   "metadata": {},
   "source": [
    "### 7. Comparative Classification Approach "
   ]
  },
  {
   "cell_type": "markdown",
   "id": "bc54fd6b-cef3-4708-ab7d-df0ff01dac4f",
   "metadata": {},
   "source": [
    "#### Embedding Based Model"
   ]
  },
  {
   "cell_type": "markdown",
   "id": "fc076780-1ddd-4d87-83d8-8732104f8acd",
   "metadata": {},
   "source": [
    "Modern embedding based deep learning model trained a Word2Vec pretrained model to learn 100-dimensional dense vectors for each token that being pre-processed from the datasets in the code below. "
   ]
  },
  {
   "cell_type": "code",
   "execution_count": 8,
   "id": "cedb6993-b4e3-46ab-8d9a-fdf36ef622ac",
   "metadata": {},
   "outputs": [],
   "source": [
    "tokens_train = [text.split() for text in X_train_clean]\n",
    "tokens_test = [text.split() for text in X_test_clean]"
   ]
  },
  {
   "cell_type": "code",
   "execution_count": 9,
   "id": "971e9dc0-4eca-468b-a482-92fa743a7148",
   "metadata": {},
   "outputs": [
    {
     "name": "stdout",
     "output_type": "stream",
     "text": [
      "Training Word2Vec model on 25000 documents:\n",
      "Epoch 1/5 completed\n",
      "Epoch 2/5 completed\n",
      "Epoch 3/5 completed\n",
      "Epoch 4/5 completed\n",
      "Epoch 5/5 completed\n"
     ]
    }
   ],
   "source": [
    "# Initialize model without training\n",
    "w2v = Word2Vec(vector_size=100, window=5, min_count=2)\n",
    "# Build vocabulary\n",
    "w2v.build_vocab(tokens_train)\n",
    "\n",
    "# Train in epochs and display progress\n",
    "total_examples = w2v.corpus_count\n",
    "print(f\"Training Word2Vec model on {total_examples} documents:\")\n",
    "for epoch in range(5):  # train for 5 epochs\n",
    "    w2v.train(tokens_train, total_examples=total_examples, epochs=1)\n",
    "    print(f\"Epoch {epoch+1}/5 completed\")"
   ]
  },
  {
   "cell_type": "code",
   "execution_count": 10,
   "id": "f65908fd-74d4-4ee5-a8c0-55e178728804",
   "metadata": {},
   "outputs": [],
   "source": [
    "def text_to_vec(tokens, model):\n",
    "    vecs = [model.wv[t] for t in tokens if t in model.wv]\n",
    "    return np.mean(vecs, axis=0) if vecs else np.zeros(model.vector_size)\n",
    "\n",
    "X_train_embed = np.vstack([text_to_vec(t, w2v) for t in tokens_train])\n",
    "X_test_embed  = np.vstack([text_to_vec(t, w2v) for t in tokens_test])"
   ]
  },
  {
   "cell_type": "markdown",
   "id": "b4ad9116-96f6-43a5-9407-4a812fd7fc5f",
   "metadata": {},
   "source": [
    "According to the function “text_to_vec” on top, it shows that each review is then represented by averaging its word vector. A two layers neural network shown below will work on these embeddings. Training and validation performed on the model will directly implement on the prediction of movie reviews in the future. "
   ]
  },
  {
   "cell_type": "code",
   "execution_count": 11,
   "id": "b31d2c8e-79cc-4087-ae15-bca9fd5e0dde",
   "metadata": {},
   "outputs": [
    {
     "name": "stderr",
     "output_type": "stream",
     "text": [
      "C:\\Users\\leeyh\\nlp_env\\Lib\\site-packages\\keras\\src\\layers\\core\\dense.py:93: UserWarning: Do not pass an `input_shape`/`input_dim` argument to a layer. When using Sequential models, prefer using an `Input(shape)` object as the first layer in the model instead.\n",
      "  super().__init__(activity_regularizer=activity_regularizer, **kwargs)\n"
     ]
    }
   ],
   "source": [
    "model = Sequential([\n",
    "    Dense(64, activation='relu', input_shape = (w2v.vector_size,)),\n",
    "    Dense(1, activation='sigmoid')\n",
    "])\n",
    "\n",
    "model.compile(optimizer = 'adam', loss = 'binary_crossentropy', metrics = ['accuracy'])"
   ]
  },
  {
   "cell_type": "code",
   "execution_count": 12,
   "id": "dc07d11c-884d-4cfe-a4de-ffa6fac2524e",
   "metadata": {
    "scrolled": true
   },
   "outputs": [
    {
     "name": "stdout",
     "output_type": "stream",
     "text": [
      "Epoch 1/10\n",
      "\u001b[1m704/704\u001b[0m \u001b[32m━━━━━━━━━━━━━━━━━━━━\u001b[0m\u001b[37m\u001b[0m \u001b[1m4s\u001b[0m 3ms/step - accuracy: 0.7242 - loss: 0.5501 - val_accuracy: 0.7624 - val_loss: 0.4876\n",
      "Epoch 2/10\n",
      "\u001b[1m704/704\u001b[0m \u001b[32m━━━━━━━━━━━━━━━━━━━━\u001b[0m\u001b[37m\u001b[0m \u001b[1m2s\u001b[0m 3ms/step - accuracy: 0.7940 - loss: 0.4516 - val_accuracy: 0.6700 - val_loss: 0.6231\n",
      "Epoch 3/10\n",
      "\u001b[1m704/704\u001b[0m \u001b[32m━━━━━━━━━━━━━━━━━━━━\u001b[0m\u001b[37m\u001b[0m \u001b[1m2s\u001b[0m 3ms/step - accuracy: 0.7968 - loss: 0.4383 - val_accuracy: 0.6936 - val_loss: 0.6001\n",
      "Epoch 4/10\n",
      "\u001b[1m704/704\u001b[0m \u001b[32m━━━━━━━━━━━━━━━━━━━━\u001b[0m\u001b[37m\u001b[0m \u001b[1m2s\u001b[0m 3ms/step - accuracy: 0.8011 - loss: 0.4332 - val_accuracy: 0.7700 - val_loss: 0.4784\n",
      "Epoch 5/10\n",
      "\u001b[1m704/704\u001b[0m \u001b[32m━━━━━━━━━━━━━━━━━━━━\u001b[0m\u001b[37m\u001b[0m \u001b[1m2s\u001b[0m 3ms/step - accuracy: 0.8055 - loss: 0.4257 - val_accuracy: 0.7620 - val_loss: 0.4835\n",
      "Epoch 6/10\n",
      "\u001b[1m704/704\u001b[0m \u001b[32m━━━━━━━━━━━━━━━━━━━━\u001b[0m\u001b[37m\u001b[0m \u001b[1m2s\u001b[0m 3ms/step - accuracy: 0.8056 - loss: 0.4240 - val_accuracy: 0.7360 - val_loss: 0.5313\n",
      "Epoch 7/10\n",
      "\u001b[1m704/704\u001b[0m \u001b[32m━━━━━━━━━━━━━━━━━━━━\u001b[0m\u001b[37m\u001b[0m \u001b[1m2s\u001b[0m 3ms/step - accuracy: 0.8070 - loss: 0.4205 - val_accuracy: 0.7260 - val_loss: 0.5384\n",
      "Epoch 8/10\n",
      "\u001b[1m704/704\u001b[0m \u001b[32m━━━━━━━━━━━━━━━━━━━━\u001b[0m\u001b[37m\u001b[0m \u001b[1m2s\u001b[0m 3ms/step - accuracy: 0.8121 - loss: 0.4146 - val_accuracy: 0.7772 - val_loss: 0.4676\n",
      "Epoch 9/10\n",
      "\u001b[1m704/704\u001b[0m \u001b[32m━━━━━━━━━━━━━━━━━━━━\u001b[0m\u001b[37m\u001b[0m \u001b[1m3s\u001b[0m 3ms/step - accuracy: 0.8111 - loss: 0.4124 - val_accuracy: 0.7600 - val_loss: 0.4979\n",
      "Epoch 10/10\n",
      "\u001b[1m704/704\u001b[0m \u001b[32m━━━━━━━━━━━━━━━━━━━━\u001b[0m\u001b[37m\u001b[0m \u001b[1m2s\u001b[0m 3ms/step - accuracy: 0.8182 - loss: 0.4074 - val_accuracy: 0.8012 - val_loss: 0.4232\n"
     ]
    },
    {
     "data": {
      "text/plain": [
       "<keras.src.callbacks.history.History at 0x1ae4bc2f1a0>"
      ]
     },
     "execution_count": 12,
     "metadata": {},
     "output_type": "execute_result"
    }
   ],
   "source": [
    "model.fit(X_train_embed, y_train, epochs = 10, batch_size=32, validation_split=0.1)"
   ]
  },
  {
   "cell_type": "markdown",
   "id": "45b35163-b023-4a98-9a9b-780aad031d1b",
   "metadata": {},
   "source": [
    "This embedding pipeline requires more computation and is less interpretable, it often capture nuanced sentiments because it is better and more efficient than TF-IDF. Comparison and evaluation of both models are evaluated on the hold out test using identical matrix that shown below. \n"
   ]
  },
  {
   "cell_type": "markdown",
   "id": "2151f9e5-0bcf-498b-a531-6e9823118b0a",
   "metadata": {},
   "source": [
    "### Comparison of Evaluation Metrics for Both Models"
   ]
  },
  {
   "cell_type": "markdown",
   "id": "7683ce78-491a-436b-a6ee-387cf83aad83",
   "metadata": {},
   "source": [
    "Accuracy, precision, recall and F1-score will be calculated and shown by the “classification_report” module and confusion matrix of both models on the truth and predicted label will be shown below to determine which pipeline performs better and more efficiently"
   ]
  },
  {
   "cell_type": "markdown",
   "id": "def42761-0e67-4dce-9ad9-d7ce8d0e06bd",
   "metadata": {},
   "source": [
    "#### Evaluation of Statistical Model"
   ]
  },
  {
   "cell_type": "code",
   "execution_count": 13,
   "id": "26cca7fc-d77e-40d5-9cd0-0c7464b604ad",
   "metadata": {},
   "outputs": [],
   "source": [
    "y_pred = clf.predict(X_test_tfidf)"
   ]
  },
  {
   "cell_type": "code",
   "execution_count": 14,
   "id": "5ff3cd06-5428-44c4-967e-dd6e71089d5a",
   "metadata": {
    "scrolled": true
   },
   "outputs": [
    {
     "name": "stdout",
     "output_type": "stream",
     "text": [
      "              precision    recall  f1-score   support\n",
      "\n",
      "           0       0.55      0.48      0.51     12500\n",
      "           1       0.54      0.60      0.57     12500\n",
      "\n",
      "    accuracy                           0.54     25000\n",
      "   macro avg       0.54      0.54      0.54     25000\n",
      "weighted avg       0.54      0.54      0.54     25000\n",
      "\n"
     ]
    }
   ],
   "source": [
    "# Statistical model evaluation\n",
    "X_test_tfidf = vectorizer.transform(X_test_clean)\n",
    "y_pred = clf.predict(X_test_tfidf)\n",
    "print(classification_report(y_test, y_pred))"
   ]
  },
  {
   "cell_type": "markdown",
   "id": "81884f12-6543-41f4-ba49-93db7636ff9c",
   "metadata": {},
   "source": [
    "According to the TF-IDF Logistic Regression basline achieved an accuracy of 0.54 on the IMDB test set, with a class-specific precision 0.55 for negative reviews and 0.54 for positive reviews. Besides that, recall hovering for the IMDB test set are 0.48 for negative reviews and 0.60 for positive reviews. These result indicate that the model often misclassifies sentiments especially for negative review due to it reliance on individual term frequencies and inability to capture features of words in the review. "
   ]
  },
  {
   "cell_type": "markdown",
   "id": "9c5f37c4-ff66-43fc-96e3-078fd6c1815e",
   "metadata": {},
   "source": [
    "#### Evaluation of Modern Embedding Model\n"
   ]
  },
  {
   "cell_type": "code",
   "execution_count": 15,
   "id": "544d579d-aa0d-4df6-97b9-2a91990c20f4",
   "metadata": {
    "scrolled": true
   },
   "outputs": [
    {
     "name": "stdout",
     "output_type": "stream",
     "text": [
      "\u001b[1m782/782\u001b[0m \u001b[32m━━━━━━━━━━━━━━━━━━━━\u001b[0m\u001b[37m\u001b[0m \u001b[1m2s\u001b[0m 2ms/step - accuracy: 0.8227 - loss: 0.3871\n",
      "Test Accuracy: 0.8110\n",
      "\u001b[1m782/782\u001b[0m \u001b[32m━━━━━━━━━━━━━━━━━━━━\u001b[0m\u001b[37m\u001b[0m \u001b[1m1s\u001b[0m 1ms/step\n",
      "              precision    recall  f1-score   support\n",
      "\n",
      "           0       0.82      0.80      0.81     12500\n",
      "           1       0.80      0.82      0.81     12500\n",
      "\n",
      "    accuracy                           0.81     25000\n",
      "   macro avg       0.81      0.81      0.81     25000\n",
      "weighted avg       0.81      0.81      0.81     25000\n",
      "\n"
     ]
    }
   ],
   "source": [
    "#Modern Embedding Based Model Evaluation\n",
    "loss, acc = model.evaluate(X_test_embed, y_test)\n",
    "print(f'Test Accuracy: {acc:.4f}')\n",
    "y_pred_nn = (model.predict(X_test_embed) > 0.5).astype(int)\n",
    "print(classification_report(y_test, y_pred_nn))"
   ]
  },
  {
   "cell_type": "markdown",
   "id": "fb84e896-08e6-45a5-a8e1-874a27c6d1df",
   "metadata": {},
   "source": [
    "Word2Vec embeddiing model attained an accuracy of 0.81 with both classes showing a balanced precision and recall near to 0.81. This marked improvement demonstrates that dense layer of the model provide a more detailed pattern learning which allow the neural network to distinguish sentiment more reliably across complex language patterns. \n",
    "\n",
    "Overall, the embedding basline pipeline is more efficient and outperform the statistical baseline by 27 percent in accuracy and achieves a higher F1-score which undersocre its ability to capture subtle sentiment with the words learning patterns that are missing"
   ]
  },
  {
   "cell_type": "markdown",
   "id": "251f3222-b4a7-47bf-a65e-7661b046af1c",
   "metadata": {},
   "source": [
    "## III. Conclusion"
   ]
  },
  {
   "cell_type": "markdown",
   "id": "67cf17e7-9c58-4049-939f-a9321cfe5e3b",
   "metadata": {},
   "source": [
    "### 9. Performance Analysis and Discussion"
   ]
  },
  {
   "cell_type": "code",
   "execution_count": 16,
   "id": "ee2ccaec-0b32-48c9-b959-792d6637e090",
   "metadata": {},
   "outputs": [
    {
     "data": {
      "image/png": "[encoded data removed]",
      "text/plain": [
       "<Figure size 640x480 with 1 Axes>"
      ]
     },
     "metadata": {},
     "output_type": "display_data"
    }
   ],
   "source": [
    "metrics = pd.DataFrame({\n",
    "    'Model': ['Baseline Statistical Model', 'Embedding Based Model'],\n",
    "    'Accuracy': [clf.score(X_test_tfidf, y_test), acc]\n",
    "})\n",
    "metrics.plot.bar(x='Model', y='Accuracy', legend=False)\n",
    "plt.ylabel('Accuracy')\n",
    "plt.show()"
   ]
  },
  {
   "cell_type": "markdown",
   "id": "a2a8bf11-4985-4eb7-bff5-fe1bc3e76612",
   "metadata": {},
   "source": [
    "The result evaluation result reveal a clear performance gap in between two pipeline. The TF-IDF Logistic Rgression model only achieved 54% accuracy, with a precision and recall mearusre around 50% for both negative and positive reviews. WordVec embedding modle delivered 81% accuracy and balanced precision and recall near 81%. "
   ]
  },
  {
   "cell_type": "code",
   "execution_count": 17,
   "id": "8d588dc7-003d-4b88-9d34-55c3f4ea7ca2",
   "metadata": {},
   "outputs": [
    {
     "data": {
      "image/png": "[encoded data removed]",
      "text/plain": [
       "<Figure size 1200x500 with 4 Axes>"
      ]
     },
     "metadata": {},
     "output_type": "display_data"
    }
   ],
   "source": [
    "cm_stat = confusion_matrix(y_test, y_pred)\n",
    "cm_nn   = confusion_matrix(y_test, y_pred_nn)\n",
    "\n",
    "# Plot side-by-side heatmaps\n",
    "fig, axes = plt.subplots(1, 2, figsize=(12, 5))\n",
    "\n",
    "sns.heatmap(cm_stat, annot=True, fmt='d', cmap='Blues', ax=axes[0])\n",
    "axes[0].set_title('Statistical Model CM')\n",
    "axes[0].set_xlabel('Predicted Label')\n",
    "axes[0].set_ylabel('True Label')\n",
    "\n",
    "sns.heatmap(cm_nn, annot=True, fmt='d', cmap='Greens', ax=axes[1])\n",
    "axes[1].set_title('Embedding Model CM')\n",
    "axes[1].set_xlabel('Predicted Label')\n",
    "axes[1].set_ylabel('True Label')\n",
    "\n",
    "plt.tight_layout()\n",
    "plt.show()\n"
   ]
  },
  {
   "cell_type": "markdown",
   "id": "9ccfcce9-47f6-43d9-ba2f-6fd79af2fe14",
   "metadata": {},
   "source": [
    "TF-IDF baseline model;s confusion matrix showed more misclassifications as correct predictions which highlight its inability to capture the mult-word sentiment expressions. The Word2Vec embedding model displayed a strong true positive and negative counts and relatively few errors in predictions. This suggest that dense, context aware embedding enable the neural network to perform sentiment analysis in idiomatic and phrasal constructs."
   ]
  },
  {
   "cell_type": "markdown",
   "id": "b1acfc3b-27c7-41d2-aa97-d69f76544fd0",
   "metadata": {},
   "source": [
    "### 10. Project Summary and Reflections"
   ]
  },
  {
   "cell_type": "markdown",
   "id": "5a96d15a-e1f1-4e72-9e89-a07cdff3362c",
   "metadata": {},
   "source": [
    "The IMDB moview reviews sentimenent analysis project demonstrated end to end contrustion of two text classification system, from raw data loading and preprocessing through model training, and visualization. TF-IDF Linear Regression offer simplicity faster training but struggle with complex language patterns. The embedding based neural model is computationally heaiver and slower in treainng process, significant improved shown in classification metrics by leveraging semantic representations. Future work could explore on pre-trained transofrm learning modesls, and more extensive hyperparameter tuning or cross-validtion to further boost performance and robustness of the model accuracy and eficiency. "
   ]
  },
  {
   "cell_type": "markdown",
   "id": "a3cdfb4b-9004-4bb8-8285-2aaa1c08f544",
   "metadata": {},
   "source": [
    "## Reference "
   ]
  },
  {
   "cell_type": "markdown",
   "id": "31b22ad0-c8e8-4815-baba-52105783047a",
   "metadata": {},
   "source": [
    "1.\tLee, L. (n.d.). A sentiment analysis of movie reviews. Cornell University. Retrieved from https://www.cs.cornell.edu/home/llee/omsa/omsa.pdf\n",
    "  \n",
    "2.\tRamos, J. (2003). Using TF–IDF to determine word relevance in document queries. Available at: https://citeseerx.ist.psu.edu/document?repid=rep1;type=pdf;doi=b3bf6373ff41a115197cb5b30e57830c16130c2c.\n",
    "\n",
    "\n",
    "3.\tMikolov, T., Sutskever, I., Chen, K., Corrado, G. S., & Dean, J. (2013). Distributed representations of words and phrases and their compositionality. \n",
    "Available at: https://citeseerx.ist.psu.edu/document?repid=rep1;type=pdf;doi=b3bf6373ff41a115197cb5b30e57830c16130c2c\n",
    "\n",
    "\n",
    "4.\tMaas, A. L., Daly, R. E., Pham, P. T., Huang, D., Ng, A. Y., & Potts, C. (2011). Learning word vectors for sentiment analysis. In Proceedings of the 49th Annual Meeting of the Association for Computational Linguistics: Human Language Technologies (pp. 142–150). Association for Computational Linguistics. Available at: https://ai.stanford.edu/~amaas/data/sentiment/\n"
   ]
  }
 ],
 "metadata": {
  "kernelspec": {
   "display_name": "Python (nlp_env)",
   "language": "python",
   "name": "nlp_env"
  },
  "language_info": {
   "codemirror_mode": {
    "name": "ipython",
    "version": 3
   },
   "file_extension": ".py",
   "mimetype": "text/x-python",
   "name": "python",
   "nbconvert_exporter": "python",
   "pygments_lexer": "ipython3",
   "version": "3.12.10"
  }
 },
 "nbformat": 4,
 "nbformat_minor": 5
}
